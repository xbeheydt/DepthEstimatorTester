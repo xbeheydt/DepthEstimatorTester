{
 "cells": [
  {
   "cell_type": "markdown",
   "metadata": {},
   "source": [
    "# Depth Estimator Tester in Colab\n",
    "\n",
    "[![Open In Colab](https://colab.research.google.com/assets/colab-badge.svg)](https://colab.research.google.com/github/xbeheydt/DepthEstimatorTester/blob/main/notebooks/DepthEstimatorTester.ipynb)\n",
    "[![GitHub](https://img.shields.io/badge/Open%20in-github-blue?logo=github)](https://github.com/xbeheydt/DepthEstimatorTester)\n"
   ]
  },
  {
   "cell_type": "markdown",
   "metadata": {},
   "source": [
    "**Before running app choose `T4 GPU` runtime.**"
   ]
  },
  {
   "cell_type": "code",
   "execution_count": null,
   "metadata": {},
   "outputs": [],
   "source": [
    "!git clone https://github.com/xbeheydt/DepthEstimatorTester && \\\n",
    "    cd DepthEstimatorTester && \\\n",
    "    pip install -r requirements.txt && \\\n",
    "    python app"
   ]
  }
 ],
 "metadata": {
  "kernelspec": {
   "display_name": ".venv",
   "language": "python",
   "name": "python3"
  },
  "language_info": {
   "codemirror_mode": {
    "name": "ipython",
    "version": 3
   },
   "file_extension": ".py",
   "mimetype": "text/x-python",
   "name": "python",
   "nbconvert_exporter": "python",
   "pygments_lexer": "ipython3",
   "version": "3.10.13"
  }
 },
 "nbformat": 4,
 "nbformat_minor": 2
}
